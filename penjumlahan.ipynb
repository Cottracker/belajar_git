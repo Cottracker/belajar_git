{
 "cells": [
  {
   "cell_type": "code",
   "execution_count": 9,
   "id": "b34e3808-68e3-4f75-8cde-db8261c5f470",
   "metadata": {},
   "outputs": [],
   "source": [
    "def penjumlahan():\n",
    "    a = int(input())\n",
    "    b = int(input())\n",
    "    return a+b"
   ]
  }
 ],
 "metadata": {
  "kernelspec": {
   "display_name": "Python 3 (ipykernel)",
   "language": "python",
   "name": "python3"
  },
  "language_info": {
   "codemirror_mode": {
    "name": "ipython",
    "version": 3
   },
   "file_extension": ".py",
   "mimetype": "text/x-python",
   "name": "python",
   "nbconvert_exporter": "python",
   "pygments_lexer": "ipython3",
   "version": "3.12.4"
  }
 },
 "nbformat": 4,
 "nbformat_minor": 5
}
